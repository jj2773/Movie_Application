{
 "cells": [
  {
   "cell_type": "code",
   "execution_count": 2,
   "source": [
    "import json\n",
    "import csv\n",
    "import pandas as pd\n"
   ],
   "outputs": [],
   "metadata": {}
  },
  {
   "cell_type": "code",
   "execution_count": 15,
   "source": [
    "final_cluster_df = pd.read_csv('/Users/attiyawaqqas/Documents/GitHub/Movie_Application/Final_Cluster/cluster_final.csv', names=(\"movieid\",\"Cluster\",\"title\"))\n",
    "final_cluster_df.dropna(inplace=True)\n",
    "final_cluster_df.reset_index(drop=True, inplace=True)\n",
    "final_cluster_df.drop(index=0)\n",
    "#final_cluster_df.set_index('movieid', inplace=True)"
   ],
   "outputs": [
    {
     "output_type": "execute_result",
     "data": {
      "text/html": [
       "<div>\n",
       "<style scoped>\n",
       "    .dataframe tbody tr th:only-of-type {\n",
       "        vertical-align: middle;\n",
       "    }\n",
       "\n",
       "    .dataframe tbody tr th {\n",
       "        vertical-align: top;\n",
       "    }\n",
       "\n",
       "    .dataframe thead th {\n",
       "        text-align: right;\n",
       "    }\n",
       "</style>\n",
       "<table border=\"1\" class=\"dataframe\">\n",
       "  <thead>\n",
       "    <tr style=\"text-align: right;\">\n",
       "      <th></th>\n",
       "      <th>movieid</th>\n",
       "      <th>Cluster</th>\n",
       "      <th>title</th>\n",
       "    </tr>\n",
       "  </thead>\n",
       "  <tbody>\n",
       "    <tr>\n",
       "      <th>1</th>\n",
       "      <td>1</td>\n",
       "      <td>35</td>\n",
       "      <td>Toy Story (1995)</td>\n",
       "    </tr>\n",
       "    <tr>\n",
       "      <th>2</th>\n",
       "      <td>2</td>\n",
       "      <td>130</td>\n",
       "      <td>Jumanji (1995)</td>\n",
       "    </tr>\n",
       "    <tr>\n",
       "      <th>3</th>\n",
       "      <td>3</td>\n",
       "      <td>180</td>\n",
       "      <td>Grumpier Old Men (1995)</td>\n",
       "    </tr>\n",
       "    <tr>\n",
       "      <th>4</th>\n",
       "      <td>4</td>\n",
       "      <td>99</td>\n",
       "      <td>Waiting to Exhale (1995)</td>\n",
       "    </tr>\n",
       "    <tr>\n",
       "      <th>5</th>\n",
       "      <td>5</td>\n",
       "      <td>180</td>\n",
       "      <td>Father of the Bride Part II (1995)</td>\n",
       "    </tr>\n",
       "    <tr>\n",
       "      <th>...</th>\n",
       "      <td>...</td>\n",
       "      <td>...</td>\n",
       "      <td>...</td>\n",
       "    </tr>\n",
       "    <tr>\n",
       "      <th>13812</th>\n",
       "      <td>205072</td>\n",
       "      <td>43</td>\n",
       "      <td>Zombieland: Double Tap (2019)</td>\n",
       "    </tr>\n",
       "    <tr>\n",
       "      <th>13813</th>\n",
       "      <td>205076</td>\n",
       "      <td>48</td>\n",
       "      <td>Downton Abbey (2019)</td>\n",
       "    </tr>\n",
       "    <tr>\n",
       "      <th>13814</th>\n",
       "      <td>205383</td>\n",
       "      <td>96</td>\n",
       "      <td>El Camino: A Breaking Bad Movie (2019)</td>\n",
       "    </tr>\n",
       "    <tr>\n",
       "      <th>13815</th>\n",
       "      <td>205425</td>\n",
       "      <td>102</td>\n",
       "      <td>Dave Chappelle: Sticks &amp; Stones (2019)</td>\n",
       "    </tr>\n",
       "    <tr>\n",
       "      <th>13816</th>\n",
       "      <td>206499</td>\n",
       "      <td>180</td>\n",
       "      <td>Between Two Ferns: The Movie (2019)</td>\n",
       "    </tr>\n",
       "  </tbody>\n",
       "</table>\n",
       "<p>13816 rows × 3 columns</p>\n",
       "</div>"
      ],
      "text/plain": [
       "      movieid Cluster                                   title\n",
       "1           1      35                        Toy Story (1995)\n",
       "2           2     130                          Jumanji (1995)\n",
       "3           3     180                 Grumpier Old Men (1995)\n",
       "4           4      99                Waiting to Exhale (1995)\n",
       "5           5     180      Father of the Bride Part II (1995)\n",
       "...       ...     ...                                     ...\n",
       "13812  205072      43           Zombieland: Double Tap (2019)\n",
       "13813  205076      48                    Downton Abbey (2019)\n",
       "13814  205383      96  El Camino: A Breaking Bad Movie (2019)\n",
       "13815  205425     102  Dave Chappelle: Sticks & Stones (2019)\n",
       "13816  206499     180     Between Two Ferns: The Movie (2019)\n",
       "\n",
       "[13816 rows x 3 columns]"
      ]
     },
     "metadata": {},
     "execution_count": 15
    }
   ],
   "metadata": {}
  },
  {
   "cell_type": "code",
   "execution_count": 16,
   "source": [
    "final_cluster_df.to_json('/Users/attiyawaqqas/Documents/GitHub/Movie_Application/js/data2.json', orient='columns')"
   ],
   "outputs": [],
   "metadata": {}
  },
  {
   "cell_type": "code",
   "execution_count": 13,
   "source": [
    "js = final_cluster_df.to_json(orient = 'columns')\n",
    "data=final_cluster_df.to_json(\"/Users/attiyawaqqas/Documents/GitHub/Movie_Application/js/data2.json\", orient = 'records')"
   ],
   "outputs": [],
   "metadata": {}
  },
  {
   "cell_type": "code",
   "execution_count": 14,
   "source": [
    "import json\n",
    "with open('/Users/attiyawaqqas/Documents/GitHub/Movie_Application/js/data2.json', 'w') as f:\n",
    "    json.dump({'movies': final_cluster_df.to_dict(orient='records')}, f, indent=4)\n"
   ],
   "outputs": [],
   "metadata": {}
  }
 ],
 "metadata": {
  "orig_nbformat": 4,
  "language_info": {
   "name": "python",
   "version": "3.8.8",
   "mimetype": "text/x-python",
   "codemirror_mode": {
    "name": "ipython",
    "version": 3
   },
   "pygments_lexer": "ipython3",
   "nbconvert_exporter": "python",
   "file_extension": ".py"
  },
  "kernelspec": {
   "name": "python3",
   "display_name": "Python 3.8.8 64-bit ('base': conda)"
  },
  "interpreter": {
   "hash": "71de3abff34d83a366601b5a469e8d95ab69c61c747e84174c1535fed8439780"
  }
 },
 "nbformat": 4,
 "nbformat_minor": 2
}