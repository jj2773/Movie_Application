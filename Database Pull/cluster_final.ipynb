{
 "cells": [
  {
   "cell_type": "code",
   "execution_count": 2,
   "source": [
    "import json\n",
    "import csv\n",
    "import pandas as pd\n"
   ],
   "outputs": [],
   "metadata": {}
  },
  {
   "cell_type": "code",
   "execution_count": 19,
   "source": [
    "final_cluster_df = pd.read_csv('/Users/attiyawaqqas/Documents/GitHub/Movie_Application/Final_Cluster/cluster_final.csv', names=(\"movieid\",\"Cluster\",\"title\"))\n",
    "\n",
    "#final_cluster_df.reset_index(drop=True, inplace=True)\n",
    "final_cluster_df.drop(index=0)\n",
    "final_cluster_df.dropna(inplace=True)\n",
    "#final_cluster_df.set_index('movieid', inplace=True)"
   ],
   "outputs": [],
   "metadata": {}
  },
  {
   "cell_type": "code",
   "execution_count": 23,
   "source": [
    "final_cluster_df.to_json('/Users/attiyawaqqas/Documents/GitHub/Movie_Application/js/data2.json', orient='columns')"
   ],
   "outputs": [],
   "metadata": {}
  },
  {
   "cell_type": "code",
   "execution_count": 24,
   "source": [
    "js = final_cluster_df.to_json(orient = 'columns')\n",
    "data=final_cluster_df.to_json(\"/Users/attiyawaqqas/Documents/GitHub/Movie_Application/js/data2.json\", orient = 'records')"
   ],
   "outputs": [],
   "metadata": {}
  },
  {
   "cell_type": "code",
   "execution_count": 17,
   "source": [
    "import json\n",
    "with open('/Users/attiyawaqqas/Documents/GitHub/Movie_Application/js/data2.json', 'w') as f:\n",
    "    json.dump({'movies': final_cluster_df.to_dict(orient='records')}, f, indent=4)\n"
   ],
   "outputs": [],
   "metadata": {}
  }
 ],
 "metadata": {
  "orig_nbformat": 4,
  "language_info": {
   "name": "python",
   "version": "3.8.8",
   "mimetype": "text/x-python",
   "codemirror_mode": {
    "name": "ipython",
    "version": 3
   },
   "pygments_lexer": "ipython3",
   "nbconvert_exporter": "python",
   "file_extension": ".py"
  },
  "kernelspec": {
   "name": "python3",
   "display_name": "Python 3.8.8 64-bit ('base': conda)"
  },
  "interpreter": {
   "hash": "71de3abff34d83a366601b5a469e8d95ab69c61c747e84174c1535fed8439780"
  }
 },
 "nbformat": 4,
 "nbformat_minor": 2
}