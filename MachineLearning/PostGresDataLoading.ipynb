{
 "cells": [
  {
   "cell_type": "code",
   "execution_count": 3,
   "id": "3516a12c",
   "metadata": {},
   "outputs": [],
   "source": [
    "import psycopg2"
   ]
  },
  {
   "cell_type": "code",
   "execution_count": 4,
   "id": "6467bd7d",
   "metadata": {},
   "outputs": [],
   "source": [
    "# connect to localhost PostGres Database\n",
    "# get credentials\n",
    "from config import user,passw"
   ]
  },
  {
   "cell_type": "code",
   "execution_count": 5,
   "id": "6cdd7e8f",
   "metadata": {},
   "outputs": [],
   "source": [
    "conn = psycopg2.connect(database=\"movielens25\",\n",
    "                        user=user, password=passw, \n",
    "                        host='127.0.0.1', port='5432'\n",
    ")"
   ]
  },
  {
   "cell_type": "code",
   "execution_count": 6,
   "id": "e7f10888",
   "metadata": {},
   "outputs": [],
   "source": [
    "conn.autocommit = True\n",
    "cursor = conn.cursor()"
   ]
  },
  {
   "cell_type": "code",
   "execution_count": 10,
   "id": "f6d2fe11",
   "metadata": {},
   "outputs": [],
   "source": [
    "sql=\"\"\"CREATE TABLE \"movies\" (\n",
    "    \"movieid\" int   NOT NULL,\n",
    "    \"title\" text   NOT NULL,\n",
    "    \"genres\" text   NOT NULL,\n",
    "    CONSTRAINT \"pk_movies\" PRIMARY KEY (\n",
    "        \"movieid\"\n",
    "     )\n",
    ");\"\"\"\n",
    "cursor.execute(sql)"
   ]
  },
  {
   "cell_type": "code",
   "execution_count": 11,
   "id": "d78794c1",
   "metadata": {},
   "outputs": [],
   "source": [
    "sql=\"\"\"CREATE TABLE \"genome_scores\" (\n",
    "    \"movieid\" int   NOT NULL,\n",
    "    \"tagid\" int   NOT NULL,\n",
    "    \"relevance\" numeric   NOT NULL\n",
    ");\"\"\"\n",
    "cursor.execute(sql)"
   ]
  },
  {
   "cell_type": "code",
   "execution_count": 12,
   "id": "2dc0b19d",
   "metadata": {},
   "outputs": [],
   "source": [
    "sql=\"\"\"CREATE TABLE \"ratings\" (\n",
    "    \"userid\" int   NOT NULL,\n",
    "    \"movieid\" int   NOT NULL,\n",
    "    \"rating\" numeric   NOT NULL,\n",
    "    \"timestamp\" bigint   NOT NULL\n",
    ");\"\"\"\n",
    "cursor.execute(sql)"
   ]
  },
  {
   "cell_type": "code",
   "execution_count": 13,
   "id": "996d9161",
   "metadata": {},
   "outputs": [],
   "source": [
    "sql=\"\"\"CREATE TABLE \"genome_tags\" (\n",
    "    \"tagid\" int   NOT NULL,\n",
    "    \"tag\" text   NOT NULL,\n",
    "    CONSTRAINT \"pk_genome_tags\" PRIMARY KEY (\n",
    "        \"tagid\"\n",
    "     )\n",
    ");\"\"\"\n",
    "cursor.execute(sql)"
   ]
  },
  {
   "cell_type": "code",
   "execution_count": 14,
   "id": "8135577d",
   "metadata": {},
   "outputs": [],
   "source": [
    "sql=\"\"\"ALTER TABLE \"genome_scores\" ADD CONSTRAINT \"fk_genome_scores_movieid\" FOREIGN KEY(\"movieid\")\n",
    "REFERENCES \"movies\" (\"movieid\");\"\"\"\n",
    "cursor.execute(sql)"
   ]
  },
  {
   "cell_type": "code",
   "execution_count": 15,
   "id": "64cf4276",
   "metadata": {},
   "outputs": [],
   "source": [
    "sql=\"\"\"ALTER TABLE \"genome_scores\" ADD CONSTRAINT \"fk_genome_scores_tagid\" FOREIGN KEY(\"tagid\")\n",
    "REFERENCES \"genome_tags\" (\"tagid\");\"\"\"\n",
    "cursor.execute(sql)"
   ]
  },
  {
   "cell_type": "code",
   "execution_count": 16,
   "id": "5c3a7039",
   "metadata": {},
   "outputs": [],
   "source": [
    "sql=\"\"\"ALTER TABLE \"ratings\" ADD CONSTRAINT \"fk_ratings_movieid\" FOREIGN KEY(\"movieid\")\n",
    "REFERENCES \"movies\" (\"movieid\");\"\"\"\n",
    "cursor.execute(sql)"
   ]
  },
  {
   "cell_type": "code",
   "execution_count": 17,
   "id": "3b79d731",
   "metadata": {},
   "outputs": [],
   "source": [
    "sql=\"\"\"CREATE INDEX \"idx_movies_title\"\n",
    "ON \"movies\" (\"title\");\"\"\"\n",
    "cursor.execute(sql)"
   ]
  },
  {
   "cell_type": "code",
   "execution_count": 10,
   "id": "fa9b9868",
   "metadata": {},
   "outputs": [],
   "source": [
    "sql = \"\"\"COPY movies(movieid,title,genres)\n",
    "FROM 'C:\\\\Users\\\\Public\\\\movielensdata\\movies.csv'\n",
    "DELIMITER ','\n",
    "CSV HEADER;\"\"\"\n",
    "cursor.execute(sql)"
   ]
  },
  {
   "cell_type": "code",
   "execution_count": 12,
   "id": "f864b253",
   "metadata": {
    "scrolled": true
   },
   "outputs": [],
   "source": [
    "sql = \"\"\"COPY ratings(userid,movieid,rating,timestamp)\n",
    "FROM 'C:\\\\Users\\\\Public\\\\movielensdata\\\\ratings.csv'\n",
    "DELIMITER ','\n",
    "CSV HEADER;\"\"\"\n",
    "cursor.execute(sql)"
   ]
  },
  {
   "cell_type": "code",
   "execution_count": 13,
   "id": "1bcd0b93",
   "metadata": {},
   "outputs": [],
   "source": [
    "sql = \"\"\"COPY genome_tags(tagid,tag)\n",
    "FROM 'C:\\\\Users\\\\Public\\\\movielensdata\\\\genome-tags.csv'\n",
    "DELIMITER ','\n",
    "CSV HEADER;\"\"\"\n",
    "cursor.execute(sql)"
   ]
  },
  {
   "cell_type": "code",
   "execution_count": 14,
   "id": "3a250299",
   "metadata": {},
   "outputs": [],
   "source": [
    "sql = \"\"\"COPY genome_scores(movieid,tagid,relevance)\n",
    "FROM 'C:\\\\Users\\\\Public\\\\movielensdata\\\\genome-scores.csv'\n",
    "DELIMITER ','\n",
    "CSV HEADER;\"\"\"\n",
    "cursor.execute(sql)"
   ]
  },
  {
   "cell_type": "code",
   "execution_count": 15,
   "id": "dd2bb478",
   "metadata": {},
   "outputs": [],
   "source": [
    "conn.commit()\n",
    "conn.close()"
   ]
  }
 ],
 "metadata": {
  "kernelspec": {
   "display_name": "PythonDataJJ",
   "language": "python",
   "name": "pythondatajj"
  },
  "language_info": {
   "codemirror_mode": {
    "name": "ipython",
    "version": 3
   },
   "file_extension": ".py",
   "mimetype": "text/x-python",
   "name": "python",
   "nbconvert_exporter": "python",
   "pygments_lexer": "ipython3",
   "version": "3.7.10"
  }
 },
 "nbformat": 4,
 "nbformat_minor": 5
}
