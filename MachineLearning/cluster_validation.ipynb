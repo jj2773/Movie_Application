{
 "cells": [
  {
   "cell_type": "code",
   "execution_count": 23,
   "id": "a85cb354",
   "metadata": {},
   "outputs": [],
   "source": [
    "import pandas as pd\n",
    "from path import Path"
   ]
  },
  {
   "cell_type": "code",
   "execution_count": 27,
   "id": "c322a377",
   "metadata": {},
   "outputs": [
    {
     "ename": "NameError",
     "evalue": "name 'cluster_df' is not defined",
     "output_type": "error",
     "traceback": [
      "\u001b[1;31m---------------------------------------------------------------------------\u001b[0m",
      "\u001b[1;31mNameError\u001b[0m                                 Traceback (most recent call last)",
      "\u001b[1;32m<ipython-input-27-713e43fa40e5>\u001b[0m in \u001b[0;36m<module>\u001b[1;34m\u001b[0m\n\u001b[0;32m      1\u001b[0m \u001b[0mfile_path\u001b[0m \u001b[1;33m=\u001b[0m \u001b[0mPath\u001b[0m\u001b[1;33m(\u001b[0m\u001b[1;34m'../cluster_manuallyreducedtagids_genre.csv'\u001b[0m\u001b[1;33m)\u001b[0m\u001b[1;33m\u001b[0m\u001b[1;33m\u001b[0m\u001b[0m\n\u001b[0;32m      2\u001b[0m \u001b[0mclusters_df\u001b[0m \u001b[1;33m=\u001b[0m \u001b[0mpd\u001b[0m\u001b[1;33m.\u001b[0m\u001b[0mread_csv\u001b[0m\u001b[1;33m(\u001b[0m\u001b[0mfile_path\u001b[0m\u001b[1;33m)\u001b[0m\u001b[1;33m\u001b[0m\u001b[1;33m\u001b[0m\u001b[0m\n\u001b[1;32m----> 3\u001b[1;33m \u001b[0mcluster_df\u001b[0m\u001b[1;33m.\u001b[0m\u001b[0mhead\u001b[0m\u001b[1;33m(\u001b[0m\u001b[1;33m)\u001b[0m\u001b[1;33m\u001b[0m\u001b[1;33m\u001b[0m\u001b[0m\n\u001b[0m",
      "\u001b[1;31mNameError\u001b[0m: name 'cluster_df' is not defined"
     ]
    }
   ],
   "source": [
    "file_path = Path('../cluster_manuallyreducedtagids_genre.csv')\n",
    "clusters_df = pd.read_csv(file_path)\n",
    "cluster_df.head()"
   ]
  },
  {
   "cell_type": "code",
   "execution_count": 6,
   "id": "9510aecc",
   "metadata": {},
   "outputs": [
    {
     "data": {
      "text/plain": [
       "(1128, 1128)"
      ]
     },
     "execution_count": 6,
     "metadata": {},
     "output_type": "execute_result"
    }
   ],
   "source": [
    "cluster107_df.shape"
   ]
  },
  {
   "cell_type": "code",
   "execution_count": 8,
   "id": "e59c62d0",
   "metadata": {},
   "outputs": [
    {
     "data": {
      "text/html": [
       "<div>\n",
       "<style scoped>\n",
       "    .dataframe tbody tr th:only-of-type {\n",
       "        vertical-align: middle;\n",
       "    }\n",
       "\n",
       "    .dataframe tbody tr th {\n",
       "        vertical-align: top;\n",
       "    }\n",
       "\n",
       "    .dataframe thead th {\n",
       "        text-align: right;\n",
       "    }\n",
       "</style>\n",
       "<table border=\"1\" class=\"dataframe\">\n",
       "  <thead>\n",
       "    <tr style=\"text-align: right;\">\n",
       "      <th></th>\n",
       "      <th>1.0</th>\n",
       "      <th>2.0</th>\n",
       "      <th>3.0</th>\n",
       "      <th>4.0</th>\n",
       "      <th>5.0</th>\n",
       "      <th>6.0</th>\n",
       "      <th>7.0</th>\n",
       "      <th>8.0</th>\n",
       "      <th>9.0</th>\n",
       "      <th>10.0</th>\n",
       "      <th>...</th>\n",
       "      <th>1119.0</th>\n",
       "      <th>1120.0</th>\n",
       "      <th>1121.0</th>\n",
       "      <th>1122.0</th>\n",
       "      <th>1123.0</th>\n",
       "      <th>1124.0</th>\n",
       "      <th>1125.0</th>\n",
       "      <th>1126.0</th>\n",
       "      <th>1127.0</th>\n",
       "      <th>1128.0</th>\n",
       "    </tr>\n",
       "    <tr>\n",
       "      <th>tagId</th>\n",
       "      <th></th>\n",
       "      <th></th>\n",
       "      <th></th>\n",
       "      <th></th>\n",
       "      <th></th>\n",
       "      <th></th>\n",
       "      <th></th>\n",
       "      <th></th>\n",
       "      <th></th>\n",
       "      <th></th>\n",
       "      <th></th>\n",
       "      <th></th>\n",
       "      <th></th>\n",
       "      <th></th>\n",
       "      <th></th>\n",
       "      <th></th>\n",
       "      <th></th>\n",
       "      <th></th>\n",
       "      <th></th>\n",
       "      <th></th>\n",
       "      <th></th>\n",
       "    </tr>\n",
       "  </thead>\n",
       "  <tbody>\n",
       "    <tr>\n",
       "      <th>1.0</th>\n",
       "      <td>1.000000</td>\n",
       "      <td>0.752480</td>\n",
       "      <td>-0.038318</td>\n",
       "      <td>-0.052357</td>\n",
       "      <td>-0.023217</td>\n",
       "      <td>-0.042409</td>\n",
       "      <td>0.131538</td>\n",
       "      <td>-0.025813</td>\n",
       "      <td>0.033979</td>\n",
       "      <td>-0.037099</td>\n",
       "      <td>...</td>\n",
       "      <td>0.041967</td>\n",
       "      <td>0.019129</td>\n",
       "      <td>0.005588</td>\n",
       "      <td>-0.082602</td>\n",
       "      <td>-0.053687</td>\n",
       "      <td>-0.063657</td>\n",
       "      <td>-0.014383</td>\n",
       "      <td>0.009950</td>\n",
       "      <td>-0.027440</td>\n",
       "      <td>-0.031880</td>\n",
       "    </tr>\n",
       "    <tr>\n",
       "      <th>2.0</th>\n",
       "      <td>0.752480</td>\n",
       "      <td>1.000000</td>\n",
       "      <td>-0.026503</td>\n",
       "      <td>-0.036832</td>\n",
       "      <td>-0.007955</td>\n",
       "      <td>-0.027677</td>\n",
       "      <td>0.128247</td>\n",
       "      <td>-0.018195</td>\n",
       "      <td>0.042609</td>\n",
       "      <td>-0.027185</td>\n",
       "      <td>...</td>\n",
       "      <td>0.026778</td>\n",
       "      <td>0.010712</td>\n",
       "      <td>-0.000496</td>\n",
       "      <td>-0.072223</td>\n",
       "      <td>-0.058163</td>\n",
       "      <td>-0.067281</td>\n",
       "      <td>-0.004051</td>\n",
       "      <td>0.001714</td>\n",
       "      <td>-0.028428</td>\n",
       "      <td>-0.033428</td>\n",
       "    </tr>\n",
       "    <tr>\n",
       "      <th>3.0</th>\n",
       "      <td>-0.038318</td>\n",
       "      <td>-0.026503</td>\n",
       "      <td>1.000000</td>\n",
       "      <td>0.354740</td>\n",
       "      <td>0.247633</td>\n",
       "      <td>0.183071</td>\n",
       "      <td>0.130516</td>\n",
       "      <td>0.097081</td>\n",
       "      <td>-0.022723</td>\n",
       "      <td>0.602198</td>\n",
       "      <td>...</td>\n",
       "      <td>0.064903</td>\n",
       "      <td>0.124330</td>\n",
       "      <td>0.054769</td>\n",
       "      <td>0.094959</td>\n",
       "      <td>-0.024305</td>\n",
       "      <td>0.070553</td>\n",
       "      <td>0.130066</td>\n",
       "      <td>0.056408</td>\n",
       "      <td>-0.095825</td>\n",
       "      <td>-0.028364</td>\n",
       "    </tr>\n",
       "    <tr>\n",
       "      <th>4.0</th>\n",
       "      <td>-0.052357</td>\n",
       "      <td>-0.036832</td>\n",
       "      <td>0.354740</td>\n",
       "      <td>1.000000</td>\n",
       "      <td>0.549034</td>\n",
       "      <td>0.416092</td>\n",
       "      <td>0.250513</td>\n",
       "      <td>0.220213</td>\n",
       "      <td>0.036629</td>\n",
       "      <td>0.415047</td>\n",
       "      <td>...</td>\n",
       "      <td>0.137917</td>\n",
       "      <td>0.203729</td>\n",
       "      <td>0.125059</td>\n",
       "      <td>0.127790</td>\n",
       "      <td>-0.061492</td>\n",
       "      <td>0.084163</td>\n",
       "      <td>0.087603</td>\n",
       "      <td>0.118335</td>\n",
       "      <td>-0.149193</td>\n",
       "      <td>-0.056323</td>\n",
       "    </tr>\n",
       "    <tr>\n",
       "      <th>5.0</th>\n",
       "      <td>-0.023217</td>\n",
       "      <td>-0.007955</td>\n",
       "      <td>0.247633</td>\n",
       "      <td>0.549034</td>\n",
       "      <td>1.000000</td>\n",
       "      <td>0.437811</td>\n",
       "      <td>0.243756</td>\n",
       "      <td>0.221901</td>\n",
       "      <td>0.060972</td>\n",
       "      <td>0.304869</td>\n",
       "      <td>...</td>\n",
       "      <td>0.141375</td>\n",
       "      <td>0.240370</td>\n",
       "      <td>0.239004</td>\n",
       "      <td>0.086838</td>\n",
       "      <td>-0.030806</td>\n",
       "      <td>0.096160</td>\n",
       "      <td>0.009703</td>\n",
       "      <td>0.215135</td>\n",
       "      <td>-0.119467</td>\n",
       "      <td>-0.047523</td>\n",
       "    </tr>\n",
       "  </tbody>\n",
       "</table>\n",
       "<p>5 rows × 1128 columns</p>\n",
       "</div>"
      ],
      "text/plain": [
       "            1.0       2.0       3.0       4.0       5.0       6.0       7.0  \\\n",
       "tagId                                                                         \n",
       "1.0    1.000000  0.752480 -0.038318 -0.052357 -0.023217 -0.042409  0.131538   \n",
       "2.0    0.752480  1.000000 -0.026503 -0.036832 -0.007955 -0.027677  0.128247   \n",
       "3.0   -0.038318 -0.026503  1.000000  0.354740  0.247633  0.183071  0.130516   \n",
       "4.0   -0.052357 -0.036832  0.354740  1.000000  0.549034  0.416092  0.250513   \n",
       "5.0   -0.023217 -0.007955  0.247633  0.549034  1.000000  0.437811  0.243756   \n",
       "\n",
       "            8.0       9.0      10.0  ...    1119.0    1120.0    1121.0  \\\n",
       "tagId                                ...                                 \n",
       "1.0   -0.025813  0.033979 -0.037099  ...  0.041967  0.019129  0.005588   \n",
       "2.0   -0.018195  0.042609 -0.027185  ...  0.026778  0.010712 -0.000496   \n",
       "3.0    0.097081 -0.022723  0.602198  ...  0.064903  0.124330  0.054769   \n",
       "4.0    0.220213  0.036629  0.415047  ...  0.137917  0.203729  0.125059   \n",
       "5.0    0.221901  0.060972  0.304869  ...  0.141375  0.240370  0.239004   \n",
       "\n",
       "         1122.0    1123.0    1124.0    1125.0    1126.0    1127.0    1128.0  \n",
       "tagId                                                                        \n",
       "1.0   -0.082602 -0.053687 -0.063657 -0.014383  0.009950 -0.027440 -0.031880  \n",
       "2.0   -0.072223 -0.058163 -0.067281 -0.004051  0.001714 -0.028428 -0.033428  \n",
       "3.0    0.094959 -0.024305  0.070553  0.130066  0.056408 -0.095825 -0.028364  \n",
       "4.0    0.127790 -0.061492  0.084163  0.087603  0.118335 -0.149193 -0.056323  \n",
       "5.0    0.086838 -0.030806  0.096160  0.009703  0.215135 -0.119467 -0.047523  \n",
       "\n",
       "[5 rows x 1128 columns]"
      ]
     },
     "execution_count": 8,
     "metadata": {},
     "output_type": "execute_result"
    }
   ],
   "source": [
    "cluster107_df.head()"
   ]
  },
  {
   "cell_type": "code",
   "execution_count": 9,
   "id": "9eaff619",
   "metadata": {},
   "outputs": [
    {
     "data": {
      "text/plain": [
       "(1128, 1128)"
      ]
     },
     "execution_count": 9,
     "metadata": {},
     "output_type": "execute_result"
    }
   ],
   "source": [
    "cluster107_df.shape"
   ]
  },
  {
   "cell_type": "code",
   "execution_count": 20,
   "id": "881a0d22",
   "metadata": {},
   "outputs": [],
   "source": [
    "clusteringchecks=cluster107_df[(cluster107_df.loc[:,:]>0.9) & (cluster107_df.loc[:,:]!=1)].fillna(0)"
   ]
  },
  {
   "cell_type": "code",
   "execution_count": 12,
   "id": "f4b87bf4",
   "metadata": {},
   "outputs": [],
   "source": [
    "clusteringchecks.to_csv('testout.csv')"
   ]
  },
  {
   "cell_type": "code",
   "execution_count": null,
   "id": "13ae6151",
   "metadata": {},
   "outputs": [],
   "source": [
    "cluster107_df.loc[3,'4.0'].dtype"
   ]
  },
  {
   "cell_type": "code",
   "execution_count": 22,
   "id": "c67b431a",
   "metadata": {},
   "outputs": [
    {
     "data": {
      "text/plain": [
       "0.9393526134644172"
      ]
     },
     "execution_count": 22,
     "metadata": {},
     "output_type": "execute_result"
    }
   ],
   "source": [
    "clusteringchecks.loc[:,'45.0'].sum()"
   ]
  },
  {
   "cell_type": "code",
   "execution_count": null,
   "id": "a1e0b80a",
   "metadata": {},
   "outputs": [],
   "source": [
    "indexlist=[]\n",
    "for i,j in cluster107_df.iterrows():\n",
    "    #print(i)\n",
    "    print('line break')\n",
    "    print(j.values[1],'--',i)\n",
    "    #if 0.9 <j.all()<1:\n",
    "    #    indexlist.append(i)\n",
    "        "
   ]
  },
  {
   "cell_type": "code",
   "execution_count": null,
   "id": "fa2bd364",
   "metadata": {},
   "outputs": [],
   "source": [
    "indexlist"
   ]
  }
 ],
 "metadata": {
  "kernelspec": {
   "display_name": "Python 3",
   "language": "python",
   "name": "python3"
  },
  "language_info": {
   "codemirror_mode": {
    "name": "ipython",
    "version": 3
   },
   "file_extension": ".py",
   "mimetype": "text/x-python",
   "name": "python",
   "nbconvert_exporter": "python",
   "pygments_lexer": "ipython3",
   "version": "3.7.10"
  }
 },
 "nbformat": 4,
 "nbformat_minor": 5
}
