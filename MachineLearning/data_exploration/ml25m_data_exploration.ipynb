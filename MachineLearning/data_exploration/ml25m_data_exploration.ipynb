{
 "cells": [
  {
   "cell_type": "code",
   "execution_count": 1,
   "id": "942f8205",
   "metadata": {},
   "outputs": [],
   "source": [
    "# Initial imports\n",
    "import pandas as pd\n",
    "from path import Path\n",
    "import numpy as np"
   ]
  },
  {
   "cell_type": "code",
   "execution_count": 2,
   "id": "c1865afe",
   "metadata": {},
   "outputs": [
    {
     "data": {
      "text/html": [
       "<div>\n",
       "<style scoped>\n",
       "    .dataframe tbody tr th:only-of-type {\n",
       "        vertical-align: middle;\n",
       "    }\n",
       "\n",
       "    .dataframe tbody tr th {\n",
       "        vertical-align: top;\n",
       "    }\n",
       "\n",
       "    .dataframe thead th {\n",
       "        text-align: right;\n",
       "    }\n",
       "</style>\n",
       "<table border=\"1\" class=\"dataframe\">\n",
       "  <thead>\n",
       "    <tr style=\"text-align: right;\">\n",
       "      <th></th>\n",
       "      <th>movieId</th>\n",
       "      <th>title</th>\n",
       "      <th>genres</th>\n",
       "    </tr>\n",
       "  </thead>\n",
       "  <tbody>\n",
       "    <tr>\n",
       "      <th>0</th>\n",
       "      <td>1</td>\n",
       "      <td>Toy Story (1995)</td>\n",
       "      <td>Adventure|Animation|Children|Comedy|Fantasy</td>\n",
       "    </tr>\n",
       "    <tr>\n",
       "      <th>1</th>\n",
       "      <td>2</td>\n",
       "      <td>Jumanji (1995)</td>\n",
       "      <td>Adventure|Children|Fantasy</td>\n",
       "    </tr>\n",
       "    <tr>\n",
       "      <th>2</th>\n",
       "      <td>3</td>\n",
       "      <td>Grumpier Old Men (1995)</td>\n",
       "      <td>Comedy|Romance</td>\n",
       "    </tr>\n",
       "    <tr>\n",
       "      <th>3</th>\n",
       "      <td>4</td>\n",
       "      <td>Waiting to Exhale (1995)</td>\n",
       "      <td>Comedy|Drama|Romance</td>\n",
       "    </tr>\n",
       "    <tr>\n",
       "      <th>4</th>\n",
       "      <td>5</td>\n",
       "      <td>Father of the Bride Part II (1995)</td>\n",
       "      <td>Comedy</td>\n",
       "    </tr>\n",
       "  </tbody>\n",
       "</table>\n",
       "</div>"
      ],
      "text/plain": [
       "   movieId                               title  \\\n",
       "0        1                    Toy Story (1995)   \n",
       "1        2                      Jumanji (1995)   \n",
       "2        3             Grumpier Old Men (1995)   \n",
       "3        4            Waiting to Exhale (1995)   \n",
       "4        5  Father of the Bride Part II (1995)   \n",
       "\n",
       "                                        genres  \n",
       "0  Adventure|Animation|Children|Comedy|Fantasy  \n",
       "1                   Adventure|Children|Fantasy  \n",
       "2                               Comedy|Romance  \n",
       "3                         Comedy|Drama|Romance  \n",
       "4                                       Comedy  "
      ]
     },
     "execution_count": 2,
     "metadata": {},
     "output_type": "execute_result"
    }
   ],
   "source": [
    "file_path = Path('movies.csv')\n",
    "movies_df = pd.read_csv(file_path)\n",
    "movies_df.head()\n"
   ]
  },
  {
   "cell_type": "code",
   "execution_count": 3,
   "id": "1aea5299",
   "metadata": {},
   "outputs": [
    {
     "data": {
      "text/html": [
       "<div>\n",
       "<style scoped>\n",
       "    .dataframe tbody tr th:only-of-type {\n",
       "        vertical-align: middle;\n",
       "    }\n",
       "\n",
       "    .dataframe tbody tr th {\n",
       "        vertical-align: top;\n",
       "    }\n",
       "\n",
       "    .dataframe thead th {\n",
       "        text-align: right;\n",
       "    }\n",
       "</style>\n",
       "<table border=\"1\" class=\"dataframe\">\n",
       "  <thead>\n",
       "    <tr style=\"text-align: right;\">\n",
       "      <th></th>\n",
       "      <th>movieId</th>\n",
       "      <th>title</th>\n",
       "      <th>genres</th>\n",
       "    </tr>\n",
       "  </thead>\n",
       "  <tbody>\n",
       "    <tr>\n",
       "      <th>0</th>\n",
       "      <td>1</td>\n",
       "      <td>Toy Story (1995)</td>\n",
       "      <td>Adventure|Animation|Children|Comedy|Fantasy</td>\n",
       "    </tr>\n",
       "    <tr>\n",
       "      <th>1</th>\n",
       "      <td>2</td>\n",
       "      <td>Jumanji (1995)</td>\n",
       "      <td>Adventure|Children|Fantasy</td>\n",
       "    </tr>\n",
       "    <tr>\n",
       "      <th>2</th>\n",
       "      <td>3</td>\n",
       "      <td>Grumpier Old Men (1995)</td>\n",
       "      <td>Comedy|Romance</td>\n",
       "    </tr>\n",
       "  </tbody>\n",
       "</table>\n",
       "</div>"
      ],
      "text/plain": [
       "   movieId                    title  \\\n",
       "0        1         Toy Story (1995)   \n",
       "1        2           Jumanji (1995)   \n",
       "2        3  Grumpier Old Men (1995)   \n",
       "\n",
       "                                        genres  \n",
       "0  Adventure|Animation|Children|Comedy|Fantasy  \n",
       "1                   Adventure|Children|Fantasy  \n",
       "2                               Comedy|Romance  "
      ]
     },
     "execution_count": 3,
     "metadata": {},
     "output_type": "execute_result"
    }
   ],
   "source": [
    "movieidlist=[1,2,3]\n",
    "movies_dfshort = movies_df.loc[movies_df['movieId'].isin(movieidlist)]\n",
    "movies_dfshort.head()"
   ]
  },
  {
   "cell_type": "code",
   "execution_count": 4,
   "id": "275e5d22",
   "metadata": {
    "scrolled": true
   },
   "outputs": [
    {
     "data": {
      "text/plain": [
       "(5813013, 2)"
      ]
     },
     "execution_count": 4,
     "metadata": {},
     "output_type": "execute_result"
    }
   ],
   "source": [
    "file_path2 = Path('ratings.csv')\n",
    "ratings_df = pd.read_csv(file_path2)\n",
    "ratings_df=ratings_df[ratings_df['rating']>4]\n",
    "ratings_df.drop(columns=['userId','timestamp'],inplace=True)\n",
    "ratings_df.shape"
   ]
  },
  {
   "cell_type": "code",
   "execution_count": 5,
   "id": "f5d80677",
   "metadata": {},
   "outputs": [],
   "source": [
    "goodmovies_df=pd.merge(ratings_df,movies_df,on='movieId',how='left')"
   ]
  },
  {
   "cell_type": "code",
   "execution_count": 6,
   "id": "22872010",
   "metadata": {},
   "outputs": [],
   "source": [
    "moviesgoodratings=goodmovies_df.title.unique()"
   ]
  },
  {
   "cell_type": "code",
   "execution_count": 7,
   "id": "3b3f8f6c",
   "metadata": {},
   "outputs": [
    {
     "data": {
      "text/plain": [
       "array(['Pulp Fiction (1994)',\n",
       "       'Three Colors: Blue (Trois couleurs: Bleu) (1993)',\n",
       "       'Underground (1995)', ..., 'Nicht alle waren Mörder (2006)',\n",
       "       'Edge of Darkness (1943)', 'Night Owls (2015)'], dtype=object)"
      ]
     },
     "execution_count": 7,
     "metadata": {},
     "output_type": "execute_result"
    }
   ],
   "source": [
    "moviesgoodratings"
   ]
  },
  {
   "cell_type": "code",
   "execution_count": 8,
   "id": "9f7de7eb",
   "metadata": {},
   "outputs": [],
   "source": [
    "mgr_df=pd.DataFrame(moviesgoodratings)\n",
    "\n",
    "mgr_df.to_csv('movieswithgoodratings.csv')\n",
    "\n"
   ]
  },
  {
   "cell_type": "code",
   "execution_count": 9,
   "id": "e1b50e5c",
   "metadata": {},
   "outputs": [
    {
     "data": {
      "text/html": [
       "<div>\n",
       "<style scoped>\n",
       "    .dataframe tbody tr th:only-of-type {\n",
       "        vertical-align: middle;\n",
       "    }\n",
       "\n",
       "    .dataframe tbody tr th {\n",
       "        vertical-align: top;\n",
       "    }\n",
       "\n",
       "    .dataframe thead th {\n",
       "        text-align: right;\n",
       "    }\n",
       "</style>\n",
       "<table border=\"1\" class=\"dataframe\">\n",
       "  <thead>\n",
       "    <tr style=\"text-align: right;\">\n",
       "      <th></th>\n",
       "      <th>movieId</th>\n",
       "      <th>rating</th>\n",
       "    </tr>\n",
       "  </thead>\n",
       "  <tbody>\n",
       "    <tr>\n",
       "      <th>1459</th>\n",
       "      <td>2</td>\n",
       "      <td>5.0</td>\n",
       "    </tr>\n",
       "    <tr>\n",
       "      <th>3864</th>\n",
       "      <td>3</td>\n",
       "      <td>5.0</td>\n",
       "    </tr>\n",
       "    <tr>\n",
       "      <th>5101</th>\n",
       "      <td>1</td>\n",
       "      <td>5.0</td>\n",
       "    </tr>\n",
       "    <tr>\n",
       "      <th>7276</th>\n",
       "      <td>3</td>\n",
       "      <td>5.0</td>\n",
       "    </tr>\n",
       "    <tr>\n",
       "      <th>9939</th>\n",
       "      <td>1</td>\n",
       "      <td>5.0</td>\n",
       "    </tr>\n",
       "  </tbody>\n",
       "</table>\n",
       "</div>"
      ],
      "text/plain": [
       "      movieId  rating\n",
       "1459        2     5.0\n",
       "3864        3     5.0\n",
       "5101        1     5.0\n",
       "7276        3     5.0\n",
       "9939        1     5.0"
      ]
     },
     "execution_count": 9,
     "metadata": {},
     "output_type": "execute_result"
    }
   ],
   "source": [
    "ratings_dfshort=ratings_df.loc[ratings_df['movieId'].isin(movieidlist)]\n",
    "ratings_dfshort.head()"
   ]
  },
  {
   "cell_type": "code",
   "execution_count": 10,
   "id": "b4f6f13a",
   "metadata": {},
   "outputs": [
    {
     "data": {
      "text/plain": [
       "(22665, 2)"
      ]
     },
     "execution_count": 10,
     "metadata": {},
     "output_type": "execute_result"
    }
   ],
   "source": [
    "ratings_dfshort.shape"
   ]
  },
  {
   "cell_type": "code",
   "execution_count": 11,
   "id": "13aa896c",
   "metadata": {},
   "outputs": [],
   "source": [
    "ratings_dfshort.to_csv('ratingsshortex.csv')"
   ]
  },
  {
   "cell_type": "code",
   "execution_count": 13,
   "id": "55301539",
   "metadata": {},
   "outputs": [
    {
     "data": {
      "text/html": [
       "<div>\n",
       "<style scoped>\n",
       "    .dataframe tbody tr th:only-of-type {\n",
       "        vertical-align: middle;\n",
       "    }\n",
       "\n",
       "    .dataframe tbody tr th {\n",
       "        vertical-align: top;\n",
       "    }\n",
       "\n",
       "    .dataframe thead th {\n",
       "        text-align: right;\n",
       "    }\n",
       "</style>\n",
       "<table border=\"1\" class=\"dataframe\">\n",
       "  <thead>\n",
       "    <tr style=\"text-align: right;\">\n",
       "      <th></th>\n",
       "      <th>rating</th>\n",
       "    </tr>\n",
       "    <tr>\n",
       "      <th>movieId</th>\n",
       "      <th></th>\n",
       "    </tr>\n",
       "  </thead>\n",
       "  <tbody>\n",
       "    <tr>\n",
       "      <th>1</th>\n",
       "      <td>18835</td>\n",
       "    </tr>\n",
       "    <tr>\n",
       "      <th>2</th>\n",
       "      <td>2667</td>\n",
       "    </tr>\n",
       "    <tr>\n",
       "      <th>3</th>\n",
       "      <td>1163</td>\n",
       "    </tr>\n",
       "    <tr>\n",
       "      <th>4</th>\n",
       "      <td>182</td>\n",
       "    </tr>\n",
       "    <tr>\n",
       "      <th>5</th>\n",
       "      <td>968</td>\n",
       "    </tr>\n",
       "  </tbody>\n",
       "</table>\n",
       "</div>"
      ],
      "text/plain": [
       "         rating\n",
       "movieId        \n",
       "1         18835\n",
       "2          2667\n",
       "3          1163\n",
       "4           182\n",
       "5           968"
      ]
     },
     "execution_count": 13,
     "metadata": {},
     "output_type": "execute_result"
    }
   ],
   "source": [
    "ratingcount_df=ratings_df.groupby('movieId').count()\n",
    "ratingcount_df.reset_index()\n",
    "ratingcount_df.head()"
   ]
  },
  {
   "cell_type": "code",
   "execution_count": 14,
   "id": "3963bf93",
   "metadata": {},
   "outputs": [
    {
     "ename": "NameError",
     "evalue": "name 'goodratings_df' is not defined",
     "output_type": "error",
     "traceback": [
      "\u001b[1;31m---------------------------------------------------------------------------\u001b[0m",
      "\u001b[1;31mNameError\u001b[0m                                 Traceback (most recent call last)",
      "\u001b[1;32m<ipython-input-14-3ff7e7fb90b2>\u001b[0m in \u001b[0;36m<module>\u001b[1;34m\u001b[0m\n\u001b[1;32m----> 1\u001b[1;33m \u001b[0mratingssummary_df\u001b[0m\u001b[1;33m=\u001b[0m\u001b[0mpd\u001b[0m\u001b[1;33m.\u001b[0m\u001b[0mmerge\u001b[0m\u001b[1;33m(\u001b[0m\u001b[0mgoodratings_df\u001b[0m\u001b[1;33m,\u001b[0m\u001b[0mratingcount_df\u001b[0m\u001b[1;33m,\u001b[0m\u001b[0mhow\u001b[0m\u001b[1;33m=\u001b[0m\u001b[1;34m'left'\u001b[0m\u001b[1;33m,\u001b[0m\u001b[0mon\u001b[0m\u001b[1;33m=\u001b[0m\u001b[1;34m'movieId'\u001b[0m\u001b[1;33m)\u001b[0m\u001b[1;33m\u001b[0m\u001b[1;33m\u001b[0m\u001b[0m\n\u001b[0m\u001b[0;32m      2\u001b[0m \u001b[0mratingssummary_df\u001b[0m\u001b[1;33m.\u001b[0m\u001b[0mrename\u001b[0m\u001b[1;33m(\u001b[0m\u001b[1;33m{\u001b[0m\u001b[1;34m'rating_x'\u001b[0m\u001b[1;33m:\u001b[0m \u001b[1;34m'avg_rating'\u001b[0m\u001b[1;33m,\u001b[0m \u001b[1;34m'rating_y'\u001b[0m\u001b[1;33m:\u001b[0m \u001b[1;34m'ratingcounts'\u001b[0m\u001b[1;33m}\u001b[0m\u001b[1;33m,\u001b[0m\u001b[0maxis\u001b[0m\u001b[1;33m=\u001b[0m\u001b[1;36m1\u001b[0m\u001b[1;33m,\u001b[0m\u001b[0minplace\u001b[0m\u001b[1;33m=\u001b[0m\u001b[1;32mTrue\u001b[0m\u001b[1;33m)\u001b[0m\u001b[1;33m\u001b[0m\u001b[1;33m\u001b[0m\u001b[0m\n\u001b[0;32m      3\u001b[0m \u001b[0mratingssummary_df\u001b[0m\u001b[1;33m.\u001b[0m\u001b[0mhead\u001b[0m\u001b[1;33m(\u001b[0m\u001b[1;33m)\u001b[0m\u001b[1;33m\u001b[0m\u001b[1;33m\u001b[0m\u001b[0m\n",
      "\u001b[1;31mNameError\u001b[0m: name 'goodratings_df' is not defined"
     ]
    }
   ],
   "source": [
    "ratingssummary_df=pd.merge(goodratings_df,ratingcount_df,how='left',on='movieId')\n",
    "ratingssummary_df.rename({'rating_x': 'avg_rating', 'rating_y': 'ratingcounts'},axis=1,inplace=True)\n",
    "ratingssummary_df.head()"
   ]
  },
  {
   "cell_type": "code",
   "execution_count": null,
   "id": "cd9c2c5f",
   "metadata": {},
   "outputs": [],
   "source": [
    "ratingssummary_df.shape"
   ]
  },
  {
   "cell_type": "code",
   "execution_count": null,
   "id": "8cfba06a",
   "metadata": {},
   "outputs": [],
   "source": [
    "file_path5 = Path('genome-scores.csv')\n",
    "genomescores_df = pd.read_csv(file_path5)\n",
    "genomescores_df.head(5)"
   ]
  },
  {
   "cell_type": "code",
   "execution_count": null,
   "id": "376f2015",
   "metadata": {},
   "outputs": [],
   "source": [
    "genomescores_dfshort=genomescores_df.loc[genomescores_df['movieId'].isin(movieidlist)]"
   ]
  },
  {
   "cell_type": "code",
   "execution_count": null,
   "id": "2aea0ba5",
   "metadata": {},
   "outputs": [],
   "source": [
    "genomescores_dfshort.shape"
   ]
  },
  {
   "cell_type": "code",
   "execution_count": null,
   "id": "914da1ba",
   "metadata": {},
   "outputs": [],
   "source": [
    "df=pd.merge(movies_df,genomescores_df,on='movieId', how='left')\n",
    "df.count()"
   ]
  },
  {
   "cell_type": "code",
   "execution_count": null,
   "id": "6842eddf",
   "metadata": {
    "scrolled": true
   },
   "outputs": [],
   "source": [
    "df.head()"
   ]
  },
  {
   "cell_type": "code",
   "execution_count": null,
   "id": "793f228c",
   "metadata": {},
   "outputs": [],
   "source": [
    "#check correlation of tagId, relevance score to find similar war movies to tagId 1121 which is ww2 movies.\n",
    "similarmovies_df=df.loc[(df['tagId']==1121) & (df['relevance']>.95)]\n",
    "similarmovies_df.head(20)"
   ]
  },
  {
   "cell_type": "code",
   "execution_count": null,
   "id": "d5e64850",
   "metadata": {},
   "outputs": [],
   "source": [
    "relevancepermovie_df=df.loc[(df['movieId']==1240) & (df['relevance']>.95)]\n",
    "relevancepermovie_df.head(40)"
   ]
  },
  {
   "cell_type": "code",
   "execution_count": null,
   "id": "bba97887",
   "metadata": {},
   "outputs": [],
   "source": [
    "# now take these tag ids from the terminator movie selection and suggest a list of movies\n",
    "tagidsmatchineterminator=relevancepermovie_df.tagId\n",
    "similarmovies_df=df.loc[(df['tagId'].isin(tagidsmatchineterminator)) & (df['relevance']>.95)]\n",
    "similarmovies_df.head()"
   ]
  },
  {
   "cell_type": "code",
   "execution_count": null,
   "id": "998727ec",
   "metadata": {},
   "outputs": [],
   "source": [
    "df_explor=df.loc[df['movieId']==1]"
   ]
  },
  {
   "cell_type": "code",
   "execution_count": null,
   "id": "10ebf2e6",
   "metadata": {},
   "outputs": [],
   "source": [
    "df_explor"
   ]
  },
  {
   "cell_type": "code",
   "execution_count": null,
   "id": "fd81a96f",
   "metadata": {},
   "outputs": [],
   "source": [
    "file_path3 = Path('tags.csv')\n",
    "tags_df = pd.read_csv(file_path3)\n",
    "tags_df.head()"
   ]
  },
  {
   "cell_type": "code",
   "execution_count": null,
   "id": "633267fd",
   "metadata": {},
   "outputs": [],
   "source": [
    "df_sum=pd.merge(df_explor,tags_df,on='movieId',how='left')\n",
    "df_sum.head()\n"
   ]
  },
  {
   "cell_type": "code",
   "execution_count": null,
   "id": "5fa7f466",
   "metadata": {},
   "outputs": [],
   "source": [
    "df_sumrelv=df_sum.loc[df_sum['relevance']>.95]"
   ]
  },
  {
   "cell_type": "code",
   "execution_count": null,
   "id": "428dc2c5",
   "metadata": {},
   "outputs": [],
   "source": [
    "df_sumrelv.to_csv('summarychecks.csv')"
   ]
  },
  {
   "cell_type": "code",
   "execution_count": null,
   "id": "8181152d",
   "metadata": {},
   "outputs": [],
   "source": [
    "df=df.groupby(['movieId','genres']).mean()"
   ]
  },
  {
   "cell_type": "code",
   "execution_count": null,
   "id": "f8f3d641",
   "metadata": {},
   "outputs": [],
   "source": [
    "df.to_csv('dfcheck.csv')"
   ]
  },
  {
   "cell_type": "code",
   "execution_count": null,
   "id": "b73395e6",
   "metadata": {},
   "outputs": [],
   "source": [
    "file_path4 = Path('genome-tags.csv')\n",
    "genometags_df = pd.read_csv(file_path4)\n",
    "genometags_df.head(5)"
   ]
  },
  {
   "cell_type": "code",
   "execution_count": null,
   "id": "d994a266",
   "metadata": {},
   "outputs": [],
   "source": [
    "file_path5 = Path('genome-scores.csv')\n",
    "genomescores_df = pd.read_csv(file_path5)\n",
    "genomescores_df.head(5)"
   ]
  },
  {
   "cell_type": "code",
   "execution_count": null,
   "id": "68e3ea8e",
   "metadata": {},
   "outputs": [],
   "source": [
    "df=pd.merge(movies_df, tags_df,on='movieId', how='left')\n",
    "df.head()"
   ]
  },
  {
   "cell_type": "code",
   "execution_count": null,
   "id": "0185f8a9",
   "metadata": {},
   "outputs": [],
   "source": [
    "inspect_df=genomescores_df[genomescores_df['movieId']==1]\n",
    "inspect_df.count()"
   ]
  },
  {
   "cell_type": "code",
   "execution_count": null,
   "id": "77094658",
   "metadata": {},
   "outputs": [],
   "source": [
    "genomescores_df.count()"
   ]
  },
  {
   "cell_type": "code",
   "execution_count": null,
   "id": "c1286960",
   "metadata": {},
   "outputs": [],
   "source": [
    "tags_df.userId.unique().shape"
   ]
  },
  {
   "cell_type": "code",
   "execution_count": null,
   "id": "53c71960",
   "metadata": {},
   "outputs": [],
   "source": [
    "# Can we reduce the number of rows in the genome_scores by first removing all low rated movies scores\n",
    "goodmoviesidlist=goodmovies_df.movieId\n",
    "reduced_genomescore_df=genomescores_df.loc[genomescores_df['movieId'].isin(goodmoviesidlist)]"
   ]
  },
  {
   "cell_type": "code",
   "execution_count": null,
   "id": "fa76238b",
   "metadata": {},
   "outputs": [],
   "source": [
    "reduced_genomescore_df.shape"
   ]
  },
  {
   "cell_type": "code",
   "execution_count": null,
   "id": "02e34cef",
   "metadata": {},
   "outputs": [],
   "source": [
    "# now how many of records have scoring over 95% relevance\n",
    "\n",
    "reduced_genomescore_df2=reduced_genomescore_df.loc[reduced_genomescore_df['relevance']>.95]"
   ]
  },
  {
   "cell_type": "code",
   "execution_count": null,
   "id": "b940a43d",
   "metadata": {},
   "outputs": [],
   "source": [
    "reduced_genomescore_df2.shape"
   ]
  },
  {
   "cell_type": "code",
   "execution_count": null,
   "id": "af96804c",
   "metadata": {},
   "outputs": [],
   "source": [
    "#now we see only 32107 rows remaining.  how many movies does this actually cover now?\n",
    "moviescorelist=reduced_genomescore_df2.movieId.unique()"
   ]
  },
  {
   "cell_type": "code",
   "execution_count": null,
   "id": "ca14bef2",
   "metadata": {},
   "outputs": [],
   "source": [
    "len(moviescorelist)"
   ]
  },
  {
   "cell_type": "code",
   "execution_count": null,
   "id": "582e2a90",
   "metadata": {},
   "outputs": [],
   "source": [
    "# ok we see it covers 10k movies.  what tagids make up this refined list\n",
    "tagsreducedlist=reduced_genomescore_df2.tagId.unique()"
   ]
  },
  {
   "cell_type": "code",
   "execution_count": null,
   "id": "697bf0f7",
   "metadata": {},
   "outputs": [],
   "source": [
    "len(tagsreducedlist)"
   ]
  },
  {
   "cell_type": "code",
   "execution_count": null,
   "id": "e0814b0c",
   "metadata": {},
   "outputs": [],
   "source": [
    "#now lets find the inner join between movies with meaningful relevance scores and movies with good ratings\n",
    "# first get the movie titles from the moviescorelist\n",
    "\n"
   ]
  }
 ],
 "metadata": {
  "interpreter": {
   "hash": "e709b0f839bf2aacf793fddf1e7fec996b08e265d2664fd544f631e9f0e679d2"
  },
  "kernelspec": {
   "display_name": "Python 3",
   "language": "python",
   "name": "python3"
  },
  "language_info": {
   "codemirror_mode": {
    "name": "ipython",
    "version": 3
   },
   "file_extension": ".py",
   "mimetype": "text/x-python",
   "name": "python",
   "nbconvert_exporter": "python",
   "pygments_lexer": "ipython3",
   "version": "3.7.10"
  }
 },
 "nbformat": 4,
 "nbformat_minor": 5
}
