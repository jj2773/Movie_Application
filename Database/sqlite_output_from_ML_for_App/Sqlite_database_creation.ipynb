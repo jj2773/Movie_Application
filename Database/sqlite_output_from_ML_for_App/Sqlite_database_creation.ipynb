{
 "cells": [
  {
   "cell_type": "code",
   "execution_count": 1,
   "id": "2483fb92",
   "metadata": {},
   "outputs": [],
   "source": [
    "# Create a SQLite Database for storing the ML clustering output and movie summary data to use in the app\n",
    "from pathlib import Path\n",
    "Path('sqlite_movie.db').touch()"
   ]
  },
  {
   "cell_type": "code",
   "execution_count": 2,
   "id": "ead9af42",
   "metadata": {},
   "outputs": [],
   "source": [
    "import sqlite3\n",
    "\n",
    "conn=sqlite3.connect('sqlite_movie.db')\n",
    "c=conn.cursor()"
   ]
  },
  {
   "cell_type": "code",
   "execution_count": 3,
   "id": "bf4163d5",
   "metadata": {},
   "outputs": [],
   "source": [
    "import pandas as pd\n",
    "# load links data with Pandas into a Dataframe\n",
    "links_df=pd.read_csv('links.csv')\n",
    "# write that data to a sqlite table\n",
    "links_df.to_sql('links',conn,if_exists='append',index=False)\n"
   ]
  },
  {
   "cell_type": "code",
   "execution_count": 4,
   "id": "a618162c",
   "metadata": {},
   "outputs": [
    {
     "data": {
      "text/plain": [
       "[(1, 114709, 862.0),\n",
       " (2, 113497, 8844.0),\n",
       " (3, 113228, 15602.0),\n",
       " (4, 114885, 31357.0),\n",
       " (5, 113041, 11862.0),\n",
       " (6, 113277, 949.0),\n",
       " (7, 114319, 11860.0),\n",
       " (8, 112302, 45325.0),\n",
       " (9, 114576, 9091.0),\n",
       " (10, 113189, 710.0)]"
      ]
     },
     "execution_count": 4,
     "metadata": {},
     "output_type": "execute_result"
    }
   ],
   "source": [
    "c.execute('''SELECT * FROM links LIMIT 10''').fetchall()"
   ]
  },
  {
   "cell_type": "code",
   "execution_count": 5,
   "id": "b185133d",
   "metadata": {},
   "outputs": [],
   "source": [
    "# load movie data with Pandas into a Dataframe\n",
    "movies_df=pd.read_csv('movies.csv')\n",
    "# write that data to a sqlite table\n",
    "movies_df.to_sql('movies',conn,if_exists='append',index=False)"
   ]
  },
  {
   "cell_type": "code",
   "execution_count": 6,
   "id": "6ac591dc",
   "metadata": {},
   "outputs": [
    {
     "data": {
      "text/plain": [
       "[(1, 'Toy Story (1995)', 'Adventure|Animation|Children|Comedy|Fantasy'),\n",
       " (2, 'Jumanji (1995)', 'Adventure|Children|Fantasy'),\n",
       " (3, 'Grumpier Old Men (1995)', 'Comedy|Romance'),\n",
       " (4, 'Waiting to Exhale (1995)', 'Comedy|Drama|Romance'),\n",
       " (5, 'Father of the Bride Part II (1995)', 'Comedy'),\n",
       " (6, 'Heat (1995)', 'Action|Crime|Thriller'),\n",
       " (7, 'Sabrina (1995)', 'Comedy|Romance'),\n",
       " (8, 'Tom and Huck (1995)', 'Adventure|Children'),\n",
       " (9, 'Sudden Death (1995)', 'Action'),\n",
       " (10, 'GoldenEye (1995)', 'Action|Adventure|Thriller')]"
      ]
     },
     "execution_count": 6,
     "metadata": {},
     "output_type": "execute_result"
    }
   ],
   "source": [
    "c.execute('''SELECT * FROM movies LIMIT 10''').fetchall()"
   ]
  },
  {
   "cell_type": "code",
   "execution_count": 7,
   "id": "cee74958",
   "metadata": {},
   "outputs": [
    {
     "name": "stderr",
     "output_type": "stream",
     "text": [
      "C:\\Users\\jj277\\anaconda3\\envs\\PythonDataJJ\\lib\\site-packages\\pandas\\core\\generic.py:2789: UserWarning: The spaces in these column names will not be changed. In pandas versions < 0.14, spaces were converted to underscores.\n",
      "  method=method,\n"
     ]
    }
   ],
   "source": [
    "# load cluster data with Pandas into a Dataframe\n",
    "cluster_df=pd.read_csv('cluster.csv')\n",
    "# write that data to a sqlite table\n",
    "cluster_df.to_sql('cluster',conn,if_exists='append',index=False)"
   ]
  },
  {
   "cell_type": "code",
   "execution_count": 8,
   "id": "eeb37ec8",
   "metadata": {},
   "outputs": [
    {
     "data": {
      "text/plain": [
       "[(0,\n",
       "  1,\n",
       "  107,\n",
       "  'Toy Story (1995)',\n",
       "  'Adventure|Animation|Children|Comedy|Fantasy'),\n",
       " (1, 2, 50, 'Jumanji (1995)', 'Adventure|Children|Fantasy'),\n",
       " (2, 3, 41, 'Grumpier Old Men (1995)', 'Comedy|Romance'),\n",
       " (3, 4, 41, 'Waiting to Exhale (1995)', 'Comedy|Drama|Romance'),\n",
       " (4, 5, 136, 'Father of the Bride Part II (1995)', 'Comedy'),\n",
       " (5, 6, 82, 'Heat (1995)', 'Action|Crime|Thriller'),\n",
       " (6, 7, 2, 'Sabrina (1995)', 'Comedy|Romance'),\n",
       " (7, 8, 16, 'Tom and Huck (1995)', 'Adventure|Children'),\n",
       " (8, 9, 78, 'Sudden Death (1995)', 'Action'),\n",
       " (9, 10, 48, 'GoldenEye (1995)', 'Action|Adventure|Thriller')]"
      ]
     },
     "execution_count": 8,
     "metadata": {},
     "output_type": "execute_result"
    }
   ],
   "source": [
    "c.execute('''SELECT * FROM cluster LIMIT 10''').fetchall()"
   ]
  },
  {
   "cell_type": "code",
   "execution_count": 9,
   "id": "a78c229c",
   "metadata": {},
   "outputs": [],
   "source": [
    "# load cluster data with Pandas into a Dataframe\n",
    "ratingssummary_df=pd.read_csv('ratingssummary.csv')\n",
    "# write that data to a sqlite table\n",
    "ratingssummary_df.to_sql('ratingssummary',conn,if_exists='append',index=False)"
   ]
  },
  {
   "cell_type": "code",
   "execution_count": 10,
   "id": "da791f74",
   "metadata": {},
   "outputs": [
    {
     "data": {
      "text/plain": [
       "[(0, 1, 3.893707794587238, 57309),\n",
       " (1, 2, 3.2515271586594023, 24228),\n",
       " (2, 3, 3.142028126058963, 11804),\n",
       " (3, 4, 2.85354736424891, 2523),\n",
       " (4, 5, 3.058434352057368, 11714),\n",
       " (5, 6, 3.854908898649748, 24588),\n",
       " (6, 7, 3.3636663369601054, 12132),\n",
       " (7, 8, 3.114583333333333, 1344),\n",
       " (8, 9, 2.992050660199407, 3711),\n",
       " (9, 10, 3.42145763311516, 28265)]"
      ]
     },
     "execution_count": 10,
     "metadata": {},
     "output_type": "execute_result"
    }
   ],
   "source": [
    "c.execute('''SELECT * FROM ratingssummary LIMIT 10''').fetchall()"
   ]
  },
  {
   "cell_type": "code",
   "execution_count": 11,
   "id": "a9dec1f5",
   "metadata": {},
   "outputs": [],
   "source": [
    "conn.close()"
   ]
  }
 ],
 "metadata": {
  "kernelspec": {
   "display_name": "PythonDataJJ",
   "language": "python",
   "name": "pythondatajj"
  },
  "language_info": {
   "codemirror_mode": {
    "name": "ipython",
    "version": 3
   },
   "file_extension": ".py",
   "mimetype": "text/x-python",
   "name": "python",
   "nbconvert_exporter": "python",
   "pygments_lexer": "ipython3",
   "version": "3.7.10"
  }
 },
 "nbformat": 4,
 "nbformat_minor": 5
}
