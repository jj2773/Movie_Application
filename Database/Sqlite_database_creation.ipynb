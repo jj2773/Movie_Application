{
 "cells": [
  {
   "cell_type": "code",
   "execution_count": 1,
   "id": "2483fb92",
   "metadata": {},
   "outputs": [],
   "source": [
    "# Create a SQLite Database for storing the ML clustering output and movie summary data to use in the app\n",
    "from pathlib import Path\n",
    "Path('sqlite_movie.db').touch()"
   ]
  },
  {
   "cell_type": "code",
   "execution_count": 2,
   "id": "ead9af42",
   "metadata": {},
   "outputs": [],
   "source": [
    "import sqlite3\n",
    "\n",
    "conn=sqlite3.connect('sqlite_movie.db')\n",
    "c=conn.cursor()"
   ]
  },
  {
   "cell_type": "code",
   "execution_count": 3,
   "id": "bf4163d5",
   "metadata": {},
   "outputs": [],
   "source": [
    "import pandas as pd\n",
    "# load links data with Pandas into a Dataframe\n",
    "links_df=pd.read_csv('links.csv')\n",
    "# write that data to a sqlite table\n",
    "links_df.to_sql('links',conn,if_exists='append',index=False)\n"
   ]
  },
  {
   "cell_type": "code",
   "execution_count": 4,
   "id": "a618162c",
   "metadata": {},
   "outputs": [
    {
     "data": {
      "text/plain": [
       "[(1, 114709, 862.0),\n",
       " (2, 113497, 8844.0),\n",
       " (3, 113228, 15602.0),\n",
       " (4, 114885, 31357.0),\n",
       " (5, 113041, 11862.0),\n",
       " (6, 113277, 949.0),\n",
       " (7, 114319, 11860.0),\n",
       " (8, 112302, 45325.0),\n",
       " (9, 114576, 9091.0),\n",
       " (10, 113189, 710.0)]"
      ]
     },
     "execution_count": 4,
     "metadata": {},
     "output_type": "execute_result"
    }
   ],
   "source": [
    "c.execute('''SELECT * FROM links LIMIT 10''').fetchall()"
   ]
  },
  {
   "cell_type": "code",
   "execution_count": 5,
   "id": "b185133d",
   "metadata": {},
   "outputs": [],
   "source": [
    "# load movie data with Pandas into a Dataframe\n",
    "movies_df=pd.read_csv('movies.csv')\n",
    "# write that data to a sqlite table\n",
    "movies_df.to_sql('movies',conn,if_exists='append',index=False)"
   ]
  },
  {
   "cell_type": "code",
   "execution_count": 6,
   "id": "6ac591dc",
   "metadata": {},
   "outputs": [
    {
     "data": {
      "text/plain": [
       "[(1, 'Toy Story (1995)', 'Adventure|Animation|Children|Comedy|Fantasy'),\n",
       " (2, 'Jumanji (1995)', 'Adventure|Children|Fantasy'),\n",
       " (3, 'Grumpier Old Men (1995)', 'Comedy|Romance'),\n",
       " (4, 'Waiting to Exhale (1995)', 'Comedy|Drama|Romance'),\n",
       " (5, 'Father of the Bride Part II (1995)', 'Comedy'),\n",
       " (6, 'Heat (1995)', 'Action|Crime|Thriller'),\n",
       " (7, 'Sabrina (1995)', 'Comedy|Romance'),\n",
       " (8, 'Tom and Huck (1995)', 'Adventure|Children'),\n",
       " (9, 'Sudden Death (1995)', 'Action'),\n",
       " (10, 'GoldenEye (1995)', 'Action|Adventure|Thriller')]"
      ]
     },
     "execution_count": 6,
     "metadata": {},
     "output_type": "execute_result"
    }
   ],
   "source": [
    "c.execute('''SELECT * FROM movies LIMIT 10''').fetchall()"
   ]
  },
  {
   "cell_type": "code",
   "execution_count": 7,
   "id": "cee74958",
   "metadata": {},
   "outputs": [],
   "source": [
    "# load cluster data with Pandas into a Dataframe\n",
    "cluster_df=pd.read_csv('cluster.csv')\n",
    "# write that data to a sqlite table\n",
    "cluster_df.to_sql('cluster',conn,if_exists='append',index=False)"
   ]
  },
  {
   "cell_type": "code",
   "execution_count": 8,
   "id": "eeb37ec8",
   "metadata": {},
   "outputs": [
    {
     "data": {
      "text/plain": [
       "[(1148,\n",
       "  199,\n",
       "  'Wallace & Gromit: The Wrong Trousers (1993)',\n",
       "  'Animation|Children|Comedy|Crime'),\n",
       " (1772, 199, 'Blues Brothers 2000 (1998)', 'Action|Comedy|Musical'),\n",
       " (4575, 199, 'Breaking In (1989)', 'Adventure|Comedy'),\n",
       " (5560, 199, 'Ã€ nous la libertÃ© (Freedom for Us) (1931)', 'Comedy|Musical'),\n",
       " (6233, 199, 'Born Yesterday (1993)', 'Comedy|Romance'),\n",
       " (7698, 199, 'China Syndrome, The (1979)', 'Drama|Thriller'),\n",
       " (8477, 199, 'JetÃ©e, La (1962)', 'Romance|Sci-Fi'),\n",
       " (5946, 198, 'Pellet (Bola, El) (2000)', 'Drama'),\n",
       " (6856, 198, 'Yankee Doodle Dandy (1942)', 'Drama|Musical'),\n",
       " (7743, 198, 'Explorers (1985)', 'Adventure|Children|Sci-Fi')]"
      ]
     },
     "execution_count": 8,
     "metadata": {},
     "output_type": "execute_result"
    }
   ],
   "source": [
    "c.execute('''SELECT * FROM cluster LIMIT 10''').fetchall()"
   ]
  },
  {
   "cell_type": "code",
   "execution_count": null,
   "id": "a78c229c",
   "metadata": {},
   "outputs": [],
   "source": []
  },
  {
   "cell_type": "code",
   "execution_count": 9,
   "id": "a9dec1f5",
   "metadata": {},
   "outputs": [],
   "source": [
    "conn.close()"
   ]
  }
 ],
 "metadata": {
  "kernelspec": {
   "display_name": "PythonDataJJ",
   "language": "python",
   "name": "pythondatajj"
  },
  "language_info": {
   "codemirror_mode": {
    "name": "ipython",
    "version": 3
   },
   "file_extension": ".py",
   "mimetype": "text/x-python",
   "name": "python",
   "nbconvert_exporter": "python",
   "pygments_lexer": "ipython3",
   "version": "3.7.10"
  }
 },
 "nbformat": 4,
 "nbformat_minor": 5
}
